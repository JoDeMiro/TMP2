{
  "nbformat": 4,
  "nbformat_minor": 0,
  "metadata": {
    "colab": {
      "name": "TraceDownloader.ipynb",
      "provenance": [],
      "collapsed_sections": [],
      "authorship_tag": "ABX9TyOqFvo9nMpsm089Cva1qTqT",
      "include_colab_link": true
    },
    "kernelspec": {
      "name": "python3",
      "display_name": "Python 3"
    },
    "language_info": {
      "name": "python"
    }
  },
  "cells": [
    {
      "cell_type": "markdown",
      "metadata": {
        "id": "view-in-github",
        "colab_type": "text"
      },
      "source": [
        "<a href=\"https://colab.research.google.com/github/JoDeMiro/TMP2/blob/main/TraceDownloader.ipynb\" target=\"_parent\"><img src=\"https://colab.research.google.com/assets/colab-badge.svg\" alt=\"Open In Colab\"/></a>"
      ]
    },
    {
      "cell_type": "code",
      "source": [
        "!wget ftp://ita.ee.lbl.gov/html/contrib/NASA-HTTP.html"
      ],
      "metadata": {
        "colab": {
          "base_uri": "https://localhost:8080/"
        },
        "id": "0y0IPLPtHWqw",
        "outputId": "9886a74b-9e89-46bf-9eb2-0ec8b87ca8bf"
      },
      "execution_count": null,
      "outputs": [
        {
          "output_type": "stream",
          "name": "stdout",
          "text": [
            "--2022-04-07 17:46:53--  ftp://ita.ee.lbl.gov/html/contrib/NASA-HTTP.html\n",
            "           => ‘NASA-HTTP.html’\n",
            "Resolving ita.ee.lbl.gov (ita.ee.lbl.gov)... 131.243.2.164, 2620:83:8000:102::a4\n",
            "Connecting to ita.ee.lbl.gov (ita.ee.lbl.gov)|131.243.2.164|:21... connected.\n",
            "Logging in as anonymous ... Logged in!\n",
            "==> SYST ... done.    ==> PWD ... done.\n",
            "==> TYPE I ... done.  ==> CWD (1) /html/contrib ... done.\n",
            "==> SIZE NASA-HTTP.html ... 3628\n",
            "==> PASV ... done.    ==> RETR NASA-HTTP.html ... done.\n",
            "Length: 3628 (3.5K) (unauthoritative)\n",
            "\n",
            "NASA-HTTP.html      100%[===================>]   3.54K  --.-KB/s    in 0.01s   \n",
            "\n",
            "2022-04-07 17:46:54 (271 KB/s) - ‘NASA-HTTP.html’ saved [3628]\n",
            "\n"
          ]
        }
      ]
    },
    {
      "cell_type": "code",
      "source": [
        "!wget ftp://ita.ee.lbl.gov/traces/NASA_access_log_Jul95.gz"
      ],
      "metadata": {
        "colab": {
          "base_uri": "https://localhost:8080/"
        },
        "id": "TlJKEGq2GpLn",
        "outputId": "6c791e11-804e-4c6b-ba50-0a771fdf3a8e"
      },
      "execution_count": null,
      "outputs": [
        {
          "output_type": "stream",
          "name": "stdout",
          "text": [
            "--2022-04-07 17:54:05--  ftp://ita.ee.lbl.gov/traces/NASA_access_log_Jul95.gz\n",
            "           => ‘NASA_access_log_Jul95.gz’\n",
            "Resolving ita.ee.lbl.gov (ita.ee.lbl.gov)... 131.243.2.164, 2620:83:8000:102::a4\n",
            "Connecting to ita.ee.lbl.gov (ita.ee.lbl.gov)|131.243.2.164|:21... connected.\n",
            "Logging in as anonymous ... Logged in!\n",
            "==> SYST ... done.    ==> PWD ... done.\n",
            "==> TYPE I ... done.  ==> CWD (1) /traces ... done.\n",
            "==> SIZE NASA_access_log_Jul95.gz ... 20676672\n",
            "==> PASV ... done.    ==> RETR NASA_access_log_Jul95.gz ... done.\n",
            "Length: 20676672 (20M) (unauthoritative)\n",
            "\n",
            "NASA_access_log_Jul 100%[===================>]  19.72M  6.34MB/s    in 3.7s    \n",
            "\n",
            "2022-04-07 17:54:10 (5.35 MB/s) - ‘NASA_access_log_Jul95.gz’ saved [20676672]\n",
            "\n"
          ]
        }
      ]
    },
    {
      "cell_type": "code",
      "source": [
        "!wget ftp://ita.ee.lbl.gov/traces/NASA_access_log_Aug95.gz"
      ],
      "metadata": {
        "colab": {
          "base_uri": "https://localhost:8080/"
        },
        "id": "phMpKUB1Kyj2",
        "outputId": "ec021aea-1b4e-4fd7-e51a-e5ee302a1623"
      },
      "execution_count": null,
      "outputs": [
        {
          "output_type": "stream",
          "name": "stdout",
          "text": [
            "--2022-04-07 17:56:02--  ftp://ita.ee.lbl.gov/traces/NASA_access_log_Aug95.gz\n",
            "           => ‘NASA_access_log_Aug95.gz’\n",
            "Resolving ita.ee.lbl.gov (ita.ee.lbl.gov)... 131.243.2.164, 2620:83:8000:102::a4\n",
            "Connecting to ita.ee.lbl.gov (ita.ee.lbl.gov)|131.243.2.164|:21... connected.\n",
            "Logging in as anonymous ... Logged in!\n",
            "==> SYST ... done.    ==> PWD ... done.\n",
            "==> TYPE I ... done.  ==> CWD (1) /traces ... done.\n",
            "==> SIZE NASA_access_log_Aug95.gz ... 16633316\n",
            "==> PASV ... done.    ==> RETR NASA_access_log_Aug95.gz ... done.\n",
            "Length: 16633316 (16M) (unauthoritative)\n",
            "\n",
            "NASA_access_log_Aug 100%[===================>]  15.86M  5.35MB/s    in 3.0s    \n",
            "\n",
            "2022-04-07 17:56:06 (5.35 MB/s) - ‘NASA_access_log_Aug95.gz’ saved [16633316]\n",
            "\n"
          ]
        }
      ]
    },
    {
      "cell_type": "code",
      "execution_count": null,
      "metadata": {
        "colab": {
          "base_uri": "https://localhost:8080/"
        },
        "id": "WFuhcrjEKMKl",
        "outputId": "39828b54-6efe-49af-859b-9f0ea7fee58f"
      },
      "outputs": [
        {
          "output_type": "stream",
          "name": "stdout",
          "text": [
            "21.0\n",
            "2.0\n"
          ]
        }
      ],
      "source": [
        "lista = ['16/Sep/2020:16:30:44 +0200','16/Sep/2020:16:31:05 +0200', '16/Sep/2020:16:31:07 +0200']\n",
        "\n",
        "from dateutil import parser\n",
        "\n",
        "for i in range(len(lista)-1):\n",
        "  t1 = lista[i]\n",
        "  t2 = lista[i+1]\n",
        "  ido1 = parser.parse(t1.replace(':', ' ', 1))\n",
        "  ido2 = parser.parse(t2.replace(':', ' ', 1))\n",
        "  ts1 = ido1.timestamp()\n",
        "  ts2 = ido2.timestamp()\n",
        "  dif = ts2 - ts1\n",
        "  print(dif)\n"
      ]
    },
    {
      "cell_type": "code",
      "source": [
        ""
      ],
      "metadata": {
        "id": "XbpYBJQtKd8A"
      },
      "execution_count": null,
      "outputs": []
    }
  ]
}